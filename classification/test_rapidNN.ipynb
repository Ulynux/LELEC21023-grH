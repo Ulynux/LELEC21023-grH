import pytest
import numpy as np
from tensorflow.keras.models import Sequential
from tensorflow.keras.layers import Conv2D, MaxPooling2D, Dropout, Flatten, Dense, BatchNormalization
from tensorflow.keras.optimizers import Adam
from classification.utils.plots import show_confusion_matrix

# File: classification/test_rapidNN.ipynb


# Mock function to create the CNN model
def create_cnn_model():
    model = Sequential()
    model.add(Conv2D(32, kernel_size=(3, 3), activation='relu', padding='same', input_shape=(20, 20, 1)))
    model.add(BatchNormalization())
    model.add(MaxPooling2D(pool_size=(2, 2)))
    model.add(Dropout(0.25))
    model.add(Conv2D(64, kernel_size=(3, 3), activation='relu', padding='same'))
    model.add(BatchNormalization())
    model.add(MaxPooling2D(pool_size=(2, 2)))
    model.add(Dropout(0.25))
    model.add(Flatten())
    model.add(Dense(128, activation='relu'))
    model.add(Dropout(0.5))
    model.add(Dense(4, activation='softmax'))
    model.compile(optimizer=Adam(learning_rate=0.001), loss='sparse_categorical_crossentropy', metrics=['accuracy'])
    return model

# Test case for model evaluation
def test_model_evaluation():
    model = create_cnn_model()
    # Mock training and evaluation data
    X_train = np.random.rand(100, 20, 20, 1).astype(np.float32)
    y_train = np.random.randint(0, 4, 100).astype(np.float32)
    model.fit(X_train, y_train, epochs=1, batch_size=10, verbose=0)
    X_test = np.random.rand(20, 20, 20, 1).astype(np.float32)
    y_test = np.random.randint(0, 4, 20).astype(np.float32)
    loss, accuracy = model.evaluate(X_test, y_test, verbose=0)
    assert accuracy >= 0.0
    assert accuracy <= 1.0

# Test case for saving the model
def test_model_saving(tmp_path):
    model = create_cnn_model()
    # Mock training data
    X_train = np.random.rand(100, 20, 20, 1).astype(np.float32)
    y_train = np.random.randint(0, 4, 100).astype(np.float32)
    model.fit(X_train, y_train, epochs=1, batch_size=10, verbose=0)
    # Save the model
    model_path = tmp_path / "test_model.h5"
    model.save(model_path)
    assert model_path.exists()

# Test case for show_confusion_matrix
def test_show_confusion_matrix():
    # Mock predictions and labels
    y_pred = np.array([0, 1, 2, 3, 0, 1, 2, 3])
    y_test = np.array([0, 1, 2, 3, 3, 2, 1, 0])
    classnames = ["Class 0", "Class 1", "Class 2", "Class 3"]
    # Ensure the function runs without errors
    show_confusion_matrix(y_pred, y_test, classnames)import pytest
import numpy as np
from tensorflow.keras.models import Sequential
from tensorflow.keras.layers import Conv2D, MaxPooling2D, Dropout, Flatten, Dense, BatchNormalization
from tensorflow.keras.optimizers import Adam

# File: classification/test_rapidNN.ipynb


# Mock function to create the CNN model
def create_cnn_model():
    model = Sequential()
    model.add(Conv2D(32, kernel_size=(3, 3), activation='relu', padding='same', input_shape=(20, 20, 1)))
    model.add(BatchNormalization())
    model.add(MaxPooling2D(pool_size=(2, 2)))
    model.add(Dropout(0.25))
    model.add(Conv2D(64, kernel_size=(3, 3), activation='relu', padding='same'))
    model.add(BatchNormalization())
    model.add(MaxPooling2D(pool_size=(2, 2)))
    model.add(Dropout(0.25))
    model.add(Flatten())
    model.add(Dense(128, activation='relu'))
    model.add(Dropout(0.5))
    model.add(Dense(4, activation='softmax'))
    model.compile(optimizer=Adam(learning_rate=0.001), loss='sparse_categorical_crossentropy', metrics=['accuracy'])
    return model

# Test case for model creation
def test_model_creation():
    model = create_cnn_model()
    assert model is not None
    assert len(model.layers) > 0

# Test case for model training
def test_model_training():
    model = create_cnn_model()
    # Mock training data
    X_train = np.random.rand(100, 20, 20, 1).astype(np.float32)
    y_train = np.random.randint(0, 4, 100).astype(np.float32)
    history = model.fit(X_train, y_train, epochs=1, batch_size=10, verbose=0)
    assert 'accuracy' in history.history

# Test case for model evaluation
def test_model_evaluation():
    model = create_cnn_model()
    # Mock training and evaluation data
    X_train = np.random.rand(100, 20, 20, 1).astype(np.float32)
    y_train = np.random.randint(0, 4, 100).astype(np.float32)
    model.fit(X_train, y_train, epochs=1, batch_size=10, verbose=0)
    X_test = np.random.rand(20, 20, 20, 1).astype(np.float32)
    y_test = np.random.randint(0, 4, 20).astype(np.float32)
    loss, accuracy = model.evaluate(X_test, y_test, verbose=0)
    assert accuracy >= 0.0
    assert accuracy <= 1.0